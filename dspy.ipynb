{
 "cells": [
  {
   "cell_type": "code",
   "execution_count": 24,
   "id": "c7ee55bb-da86-444b-8e35-2e2f631094ba",
   "metadata": {},
   "outputs": [
    {
     "name": "stdout",
     "output_type": "stream",
     "text": [
      "[Example({'question': 'What is 193+934', 'answer': '1127'}) (input_keys={'question'}), Example({'question': 'What is 565+916', 'answer': '1481'}) (input_keys={'question'}), Example({'question': 'What is 80+920', 'answer': '1000'}) (input_keys={'question'}), Example({'question': 'What is 528+254', 'answer': '782'}) (input_keys={'question'}), Example({'question': 'What is 674+840', 'answer': '1514'}) (input_keys={'question'}), Example({'question': 'What is 788+330', 'answer': '1118'}) (input_keys={'question'}), Example({'question': 'What is 520+735', 'answer': '1255'}) (input_keys={'question'}), Example({'question': 'What is 630+852', 'answer': '1482'}) (input_keys={'question'}), Example({'question': 'What is 835+76', 'answer': '911'}) (input_keys={'question'}), Example({'question': 'What is 27+128', 'answer': '155'}) (input_keys={'question'})]\n"
     ]
    }
   ],
   "source": [
    "from dspy import Example\n",
    "import json\n",
    "\n",
    "\n",
    "with open('questions.json') as f:\n",
    "    questions = json.load(f)\n",
    "\n",
    "inputs = []\n",
    "for example in questions['inputs']:\n",
    "    inputs.append(Example(base=example).with_inputs('question'))\n",
    "\n",
    "print(output)"
   ]
  },
  {
   "cell_type": "code",
   "execution_count": 23,
   "id": "3cb032a5-269c-4af7-9ad7-6327013fc9ff",
   "metadata": {},
   "outputs": [
    {
     "name": "stdout",
     "output_type": "stream",
     "text": [
      "{\n",
      "    \"inputs\": [\n",
      "        {\n",
      "            \"question\": \"What is 193+934\",\n",
      "            \"answer\": \"1127\"\n",
      "        },\n",
      "        {\n",
      "            \"question\": \"What is 565+916\",\n",
      "            \"answer\": \"1481\"\n",
      "        },\n",
      "        {\n",
      "            \"question\": \"What is 80+920\",\n",
      "            \"answer\": \"1000\"\n",
      "        },\n",
      "        {\n",
      "            \"question\": \"What is 528+254\",\n",
      "            \"answer\": \"782\"\n",
      "        },\n",
      "        {\n",
      "            \"question\": \"What is 674+840\",\n",
      "            \"answer\": \"1514\"\n",
      "        },\n",
      "        {\n",
      "            \"question\": \"What is 788+330\",\n",
      "            \"answer\": \"1118\"\n",
      "        },\n",
      "        {\n",
      "            \"question\": \"What is 520+735\",\n",
      "            \"answer\": \"1255\"\n",
      "        },\n",
      "        {\n",
      "            \"question\": \"What is 630+852\",\n",
      "            \"answer\": \"1482\"\n",
      "        },\n",
      "        {\n",
      "            \"question\": \"What is 835+76\",\n",
      "            \"answer\": \"911\"\n",
      "        },\n",
      "        {\n",
      "            \"question\": \"What is 27+128\",\n",
      "            \"answer\": \"155\"\n",
      "        }\n",
      "    ]\n",
      "}\n"
     ]
    }
   ],
   "source": [
    "print(json.dumps(questions, indent=4))"
   ]
  },
  {
   "cell_type": "code",
   "execution_count": 25,
   "id": "40ee682c-4443-4a4c-be35-479f5b517d64",
   "metadata": {},
   "outputs": [],
   "source": [
    "import dspy\n",
    "# This is the signature for the predictor. It is a simple question and answer model.\n",
    "class MathQA(dspy.Signature):\n",
    "    \"\"\"Answer questions about basic arithmetic\"\"\"\n",
    "\n",
    "    question = dspy.InputField(desc=\"a question about arithmetic\")\n",
    "    answer = dspy.OutputField(desc=\"one number\")\n",
    "\n",
    "\n",
    "class MathModule(dspy.Module):\n",
    "    def __init__(self):\n",
    "        super().__init__()\n",
    "\n",
    "        self.generate_answer = dspy.ChainOfThought(MathQA)\n",
    "    \n",
    "    def forward(self, question):\n",
    "        prediction = self.generate_answer(question=question)\n",
    "        return dspy.Prediction(answer=prediction.answer)"
   ]
  },
  {
   "cell_type": "code",
   "execution_count": 30,
   "id": "f0b74472-4a3a-4d38-82db-50ac6297cc8c",
   "metadata": {},
   "outputs": [
    {
     "name": "stderr",
     "output_type": "stream",
     "text": [
      "\n",
      "100%|████████| 1/1 [00:00<00:00, 2637.93it/s]\u001b[A"
     ]
    },
    {
     "name": "stdout",
     "output_type": "stream",
     "text": [
      "Failed to run or to evaluate example Example({'question': 'What is 193+934', 'answer': '1127'}) (input_keys={'question'}) with <function answer_exact_match at 0x138b66840> due to 'NoneType' object has no attribute 'kwargs'.\n",
      "Bootstrapped 0 full traces after 1 examples in round 0.\n",
      "generate_answer = ChainOfThought(<class '__main__.MathQA'>)\n"
     ]
    },
    {
     "name": "stderr",
     "output_type": "stream",
     "text": [
      "\n"
     ]
    }
   ],
   "source": [
    "from dspy.evaluate import answer_exact_match\n",
    "from dspy.teleprompt import BootstrapFewShot\n",
    "\n",
    "# Set up a basic teleprompter, which will compile our RAG program.\n",
    "teleprompter = BootstrapFewShot(metric=answer_exact_match)\n",
    "# evaluate(MathModule(), metric=llm_metric)\n",
    "\n",
    "# Compile!\n",
    "trainset = [output[0]]\n",
    "compiled_qa = teleprompter.compile(MathModule(), trainset=trainset)\n",
    "print(compiled_qa)"
   ]
  },
  {
   "cell_type": "code",
   "execution_count": 13,
   "id": "67bdd481-47f9-453a-a789-0e21fb2a0856",
   "metadata": {},
   "outputs": [
    {
     "ename": "AttributeError",
     "evalue": "'NoneType' object has no attribute 'kwargs'",
     "output_type": "error",
     "traceback": [
      "\u001b[0;31m---------------------------------------------------------------------------\u001b[0m",
      "\u001b[0;31mAttributeError\u001b[0m                            Traceback (most recent call last)",
      "Cell \u001b[0;32mIn[13], line 4\u001b[0m\n\u001b[1;32m      1\u001b[0m my_question \u001b[38;5;241m=\u001b[39m \u001b[38;5;124m\"\u001b[39m\u001b[38;5;124mWhat is 222+45?\u001b[39m\u001b[38;5;124m\"\u001b[39m\n\u001b[1;32m      3\u001b[0m \u001b[38;5;66;03m# Get the prediction. \u001b[39;00m\n\u001b[0;32m----> 4\u001b[0m pred \u001b[38;5;241m=\u001b[39m \u001b[43mcompiled_qa\u001b[49m\u001b[43m(\u001b[49m\u001b[43mquestion\u001b[49m\u001b[38;5;241;43m=\u001b[39;49m\u001b[43mmy_question\u001b[49m\u001b[43m)\u001b[49m\n\u001b[1;32m      6\u001b[0m \u001b[38;5;66;03m# Print the contexts and the answer.\u001b[39;00m\n\u001b[1;32m      7\u001b[0m \u001b[38;5;28mprint\u001b[39m(\u001b[38;5;124mf\u001b[39m\u001b[38;5;124m\"\u001b[39m\u001b[38;5;124mQuestion: \u001b[39m\u001b[38;5;132;01m{\u001b[39;00mmy_question\u001b[38;5;132;01m}\u001b[39;00m\u001b[38;5;124m\"\u001b[39m)\n",
      "File \u001b[0;32m~/.local/share/virtualenvs/reranker-SfNUDiTM/lib/python3.11/site-packages/dspy/primitives/program.py:29\u001b[0m, in \u001b[0;36mModule.__call__\u001b[0;34m(self, *args, **kwargs)\u001b[0m\n\u001b[1;32m     28\u001b[0m \u001b[38;5;28;01mdef\u001b[39;00m \u001b[38;5;21m__call__\u001b[39m(\u001b[38;5;28mself\u001b[39m, \u001b[38;5;241m*\u001b[39margs, \u001b[38;5;241m*\u001b[39m\u001b[38;5;241m*\u001b[39mkwargs):\n\u001b[0;32m---> 29\u001b[0m     \u001b[38;5;28;01mreturn\u001b[39;00m \u001b[38;5;28;43mself\u001b[39;49m\u001b[38;5;241;43m.\u001b[39;49m\u001b[43mforward\u001b[49m\u001b[43m(\u001b[49m\u001b[38;5;241;43m*\u001b[39;49m\u001b[43margs\u001b[49m\u001b[43m,\u001b[49m\u001b[43m \u001b[49m\u001b[38;5;241;43m*\u001b[39;49m\u001b[38;5;241;43m*\u001b[39;49m\u001b[43mkwargs\u001b[49m\u001b[43m)\u001b[49m\n",
      "Cell \u001b[0;32mIn[3], line 17\u001b[0m, in \u001b[0;36mMathModule.forward\u001b[0;34m(self, question)\u001b[0m\n\u001b[1;32m     16\u001b[0m \u001b[38;5;28;01mdef\u001b[39;00m \u001b[38;5;21mforward\u001b[39m(\u001b[38;5;28mself\u001b[39m, question):\n\u001b[0;32m---> 17\u001b[0m     prediction \u001b[38;5;241m=\u001b[39m \u001b[38;5;28;43mself\u001b[39;49m\u001b[38;5;241;43m.\u001b[39;49m\u001b[43mgenerate_answer\u001b[49m\u001b[43m(\u001b[49m\u001b[43mquestion\u001b[49m\u001b[38;5;241;43m=\u001b[39;49m\u001b[43mquestion\u001b[49m\u001b[43m)\u001b[49m\n\u001b[1;32m     18\u001b[0m     \u001b[38;5;28;01mreturn\u001b[39;00m dspy\u001b[38;5;241m.\u001b[39mPrediction(answer\u001b[38;5;241m=\u001b[39mprediction\u001b[38;5;241m.\u001b[39manswer)\n",
      "File \u001b[0;32m~/.local/share/virtualenvs/reranker-SfNUDiTM/lib/python3.11/site-packages/dspy/predict/predict.py:60\u001b[0m, in \u001b[0;36mPredict.__call__\u001b[0;34m(self, **kwargs)\u001b[0m\n\u001b[1;32m     59\u001b[0m \u001b[38;5;28;01mdef\u001b[39;00m \u001b[38;5;21m__call__\u001b[39m(\u001b[38;5;28mself\u001b[39m, \u001b[38;5;241m*\u001b[39m\u001b[38;5;241m*\u001b[39mkwargs):\n\u001b[0;32m---> 60\u001b[0m     \u001b[38;5;28;01mreturn\u001b[39;00m \u001b[38;5;28;43mself\u001b[39;49m\u001b[38;5;241;43m.\u001b[39;49m\u001b[43mforward\u001b[49m\u001b[43m(\u001b[49m\u001b[38;5;241;43m*\u001b[39;49m\u001b[38;5;241;43m*\u001b[39;49m\u001b[43mkwargs\u001b[49m\u001b[43m)\u001b[49m\n",
      "File \u001b[0;32m~/.local/share/virtualenvs/reranker-SfNUDiTM/lib/python3.11/site-packages/dspy/predict/chain_of_thought.py:66\u001b[0m, in \u001b[0;36mChainOfThought.forward\u001b[0;34m(self, **kwargs)\u001b[0m\n\u001b[1;32m     64\u001b[0m \u001b[38;5;28;01melse\u001b[39;00m:\n\u001b[1;32m     65\u001b[0m     signature \u001b[38;5;241m=\u001b[39m dsp\u001b[38;5;241m.\u001b[39mTemplate(\u001b[38;5;28mself\u001b[39m\u001b[38;5;241m.\u001b[39msignature\u001b[38;5;241m.\u001b[39minstructions, \u001b[38;5;241m*\u001b[39m\u001b[38;5;241m*\u001b[39mnew_signature)\n\u001b[0;32m---> 66\u001b[0m \u001b[38;5;28;01mreturn\u001b[39;00m \u001b[38;5;28;43msuper\u001b[39;49m\u001b[43m(\u001b[49m\u001b[43m)\u001b[49m\u001b[38;5;241;43m.\u001b[39;49m\u001b[43mforward\u001b[49m\u001b[43m(\u001b[49m\u001b[43msignature\u001b[49m\u001b[38;5;241;43m=\u001b[39;49m\u001b[43msignature\u001b[49m\u001b[43m,\u001b[49m\u001b[43m \u001b[49m\u001b[38;5;241;43m*\u001b[39;49m\u001b[38;5;241;43m*\u001b[39;49m\u001b[43mkwargs\u001b[49m\u001b[43m)\u001b[49m\n",
      "File \u001b[0;32m~/.local/share/virtualenvs/reranker-SfNUDiTM/lib/python3.11/site-packages/dspy/predict/predict.py:74\u001b[0m, in \u001b[0;36mPredict.forward\u001b[0;34m(self, **kwargs)\u001b[0m\n\u001b[1;32m     72\u001b[0m \u001b[38;5;66;03m# If temperature is 0.0 but its n > 1, set temperature to 0.7.\u001b[39;00m\n\u001b[1;32m     73\u001b[0m temperature \u001b[38;5;241m=\u001b[39m config\u001b[38;5;241m.\u001b[39mget(\u001b[38;5;124m\"\u001b[39m\u001b[38;5;124mtemperature\u001b[39m\u001b[38;5;124m\"\u001b[39m, \u001b[38;5;28;01mNone\u001b[39;00m)\n\u001b[0;32m---> 74\u001b[0m temperature \u001b[38;5;241m=\u001b[39m \u001b[43mlm\u001b[49m\u001b[38;5;241;43m.\u001b[39;49m\u001b[43mkwargs\u001b[49m[\u001b[38;5;124m'\u001b[39m\u001b[38;5;124mtemperature\u001b[39m\u001b[38;5;124m'\u001b[39m] \u001b[38;5;28;01mif\u001b[39;00m temperature \u001b[38;5;129;01mis\u001b[39;00m \u001b[38;5;28;01mNone\u001b[39;00m \u001b[38;5;28;01melse\u001b[39;00m temperature\n\u001b[1;32m     76\u001b[0m num_generations \u001b[38;5;241m=\u001b[39m config\u001b[38;5;241m.\u001b[39mget(\u001b[38;5;124m\"\u001b[39m\u001b[38;5;124mn\u001b[39m\u001b[38;5;124m\"\u001b[39m, \u001b[38;5;28;01mNone\u001b[39;00m)\n\u001b[1;32m     77\u001b[0m \u001b[38;5;28;01mif\u001b[39;00m num_generations \u001b[38;5;129;01mis\u001b[39;00m \u001b[38;5;28;01mNone\u001b[39;00m:\n",
      "\u001b[0;31mAttributeError\u001b[0m: 'NoneType' object has no attribute 'kwargs'"
     ]
    }
   ],
   "source": [
    "my_question = \"What is 222+45?\"\n",
    "\n",
    "# Get the prediction. \n",
    "pred = compiled_qa(question=my_question)\n",
    "\n",
    "# Print the contexts and the answer.\n",
    "print(f\"Question: {my_question}\")\n",
    "print(f\"Predicted Answer: {pred.answer}\")"
   ]
  },
  {
   "cell_type": "code",
   "execution_count": null,
   "id": "85401022-5354-4ea4-a771-58c9f0e1c8ac",
   "metadata": {},
   "outputs": [],
   "source": []
  }
 ],
 "metadata": {
  "kernelspec": {
   "display_name": "Python 3 (ipykernel)",
   "language": "python",
   "name": "python3"
  },
  "language_info": {
   "codemirror_mode": {
    "name": "ipython",
    "version": 3
   },
   "file_extension": ".py",
   "mimetype": "text/x-python",
   "name": "python",
   "nbconvert_exporter": "python",
   "pygments_lexer": "ipython3",
   "version": "3.11.5"
  }
 },
 "nbformat": 4,
 "nbformat_minor": 5
}
